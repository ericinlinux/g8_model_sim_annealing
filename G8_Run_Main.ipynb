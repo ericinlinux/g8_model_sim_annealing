{
 "cells": [
  {
   "cell_type": "code",
   "execution_count": null,
   "metadata": {
    "collapsed": false
   },
   "outputs": [],
   "source": [
    "%matplotlib inline\n",
    "import matplotlib.pyplot as plt\n",
    "import numpy as np\n",
    "import pandas as pd\n",
    "import main\n",
    "import model as m\n",
    "reload(m)\n",
    "reload(main)"
   ]
  },
  {
   "cell_type": "markdown",
   "metadata": {},
   "source": [
    "T = 1.0\n",
    "T_min = 0.00001\n",
    "alpha = 0.9\n",
    "\n",
    "conf_media, susp_media, -0.3\n",
    "media_pos_sent, sent_pvv, 0.2\n",
    "media_neg_sent, sent_pvv, -0.8\n",
    "num_posts, awareness_pvv, 0.1\n",
    "sent_pvv, sent_pvv, 0.3\n",
    "awareness_pvv, awareness_pvv, 0.4\n",
    "sent_pvv, awareness_pvv, 0.5\n",
    "awareness_pvv, sent_pvv, 0.6\n",
    "sent_pvv, conf_pvv, 0.9\n",
    "conf_pvv, sent_pvv, 0.9\n",
    "susp_media, conf_pvv, 0.6\n",
    "conf_pvv, polls, 0.4"
   ]
  },
  {
   "cell_type": "code",
   "execution_count": null,
   "metadata": {
    "collapsed": false,
    "scrolled": true
   },
   "outputs": [],
   "source": [
    "parameters, cost_hist, parameters_hist = main.main()"
   ]
  },
  {
   "cell_type": "code",
   "execution_count": null,
   "metadata": {
    "collapsed": false
   },
   "outputs": [],
   "source": [
    "parameters"
   ]
  },
  {
   "cell_type": "code",
   "execution_count": null,
   "metadata": {
    "collapsed": false
   },
   "outputs": [],
   "source": [
    "np.min(cost_hist)"
   ]
  },
  {
   "cell_type": "code",
   "execution_count": 8,
   "metadata": {
    "collapsed": false
   },
   "outputs": [
    {
     "data": {
      "text/plain": [
       "[73.2679501949139,\n",
       " 69.75295417436708,\n",
       " 72.67911060655035,\n",
       " 71.03662377164389,\n",
       " 64.90089552851221,\n",
       " 65.08387581577848,\n",
       " 62.11027187284452,\n",
       " 58.8339896802988,\n",
       " 57.29687372295815,\n",
       " 57.374508499560264,\n",
       " 57.546466842144184,\n",
       " 56.474569043740686,\n",
       " 57.36711113922277,\n",
       " 56.88922696264446,\n",
       " 55.28006057785277,\n",
       " 55.54307285021997,\n",
       " 50.501447602375734,\n",
       " 51.617554230952976,\n",
       " 51.209468506625896,\n",
       " 47.32932978570075,\n",
       " 46.56192617342124,\n",
       " 42.216980658648104,\n",
       " 41.65577317116091,\n",
       " 38.80266619775588,\n",
       " 39.649332834042994,\n",
       " 39.486733585107864,\n",
       " 36.76692357990473,\n",
       " 36.53480417268062,\n",
       " 34.75617359776908,\n",
       " 31.63452917822919,\n",
       " 31.06329425719671,\n",
       " 29.001866936572604,\n",
       " 28.568301916895393]"
      ]
     },
     "execution_count": 8,
     "metadata": {},
     "output_type": "execute_result"
    }
   ],
   "source": [
    "cost_hist"
   ]
  },
  {
   "cell_type": "markdown",
   "metadata": {},
   "source": [
    "# For a new attempt, dont forget to reload the files"
   ]
  },
  {
   "cell_type": "code",
   "execution_count": null,
   "metadata": {
    "collapsed": false
   },
   "outputs": [],
   "source": [
    "reload(m)\n",
    "reload(main)"
   ]
  },
  {
   "cell_type": "code",
   "execution_count": null,
   "metadata": {
    "collapsed": false,
    "scrolled": true
   },
   "outputs": [],
   "source": [
    "parameters, cost_hist, parameters_hist = main.main()"
   ]
  },
  {
   "cell_type": "code",
   "execution_count": null,
   "metadata": {
    "collapsed": true
   },
   "outputs": [],
   "source": []
  }
 ],
 "metadata": {
  "kernelspec": {
   "display_name": "Python [Root]",
   "language": "python",
   "name": "Python [Root]"
  },
  "language_info": {
   "codemirror_mode": {
    "name": "ipython",
    "version": 2
   },
   "file_extension": ".py",
   "mimetype": "text/x-python",
   "name": "python",
   "nbconvert_exporter": "python",
   "pygments_lexer": "ipython2",
   "version": "2.7.12"
  }
 },
 "nbformat": 4,
 "nbformat_minor": 0
}
